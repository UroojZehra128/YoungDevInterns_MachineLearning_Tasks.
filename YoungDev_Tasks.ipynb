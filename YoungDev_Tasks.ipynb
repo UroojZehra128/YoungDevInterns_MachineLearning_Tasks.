{
  "nbformat": 4,
  "nbformat_minor": 0,
  "metadata": {
    "colab": {
      "provenance": [],
      "gpuType": "T4"
    },
    "kernelspec": {
      "name": "python3",
      "display_name": "Python 3"
    },
    "language_info": {
      "name": "python"
    },
    "accelerator": "GPU"
  },
  "cells": [
    {
      "cell_type": "markdown",
      "source": [
        "# ***INTERMEDIATE TASKS***"
      ],
      "metadata": {
        "id": "7ACGRyyPNNa6"
      }
    },
    {
      "cell_type": "markdown",
      "source": [
        "**TASK NO 1 Build a model with cross - validation**"
      ],
      "metadata": {
        "id": "sR8XHGLBM97-"
      }
    },
    {
      "cell_type": "code",
      "execution_count": 1,
      "metadata": {
        "colab": {
          "base_uri": "https://localhost:8080/"
        },
        "id": "gLTZzEj0MxLf",
        "outputId": "c0139d7e-c62a-4ce2-9fea-1cc4220b1824"
      },
      "outputs": [
        {
          "output_type": "stream",
          "name": "stdout",
          "text": [
            "📊 Cross-validation scores (per fold): [1.         1.         0.93333333 0.96666667 0.96666667]\n",
            "✅ Mean Accuracy: 0.9733\n",
            "📈 Standard Deviation: 0.0249\n"
          ]
        }
      ],
      "source": [
        "import pandas as pd\n",
        "from sklearn.model_selection import cross_val_score, KFold\n",
        "from sklearn.datasets import load_iris\n",
        "from sklearn.linear_model import LogisticRegression\n",
        "\n",
        "data = load_iris()\n",
        "X, y = data.data, data.target\n",
        "\n",
        "model = LogisticRegression(max_iter=200)\n",
        "kfold = KFold(n_splits=5, shuffle=True, random_state=42)\n",
        "\n",
        "cv_scores = cross_val_score(model, X, y, cv=kfold, scoring='accuracy')\n",
        "\n",
        "print(\"📊 Cross-validation scores (per fold):\", cv_scores)\n",
        "print(f\"✅ Mean Accuracy: {cv_scores.mean():.4f}\")\n",
        "print(f\"📈 Standard Deviation: {cv_scores.std():.4f}\")\n"
      ]
    },
    {
      "cell_type": "markdown",
      "source": [
        "**TASK NO 2 Preprocesss data for Machine learning**"
      ],
      "metadata": {
        "id": "Jo7wwDSfNBb2"
      }
    },
    {
      "cell_type": "code",
      "source": [
        "import pandas as pd\n",
        "import numpy as np\n",
        "from sklearn.model_selection import train_test_split\n",
        "from sklearn.preprocessing import StandardScaler, OneHotEncoder\n",
        "from sklearn.compose import ColumnTransformer\n",
        "from sklearn.impute import SimpleImputer\n",
        "from sklearn.pipeline import Pipeline\n",
        "from sklearn.datasets import load_breast_cancer\n",
        "\n",
        "data = load_breast_cancer()\n",
        "X = pd.DataFrame(data.data, columns=data.feature_names)\n",
        "y = pd.Series(data.target)\n",
        "\n",
        "X['category'] = np.where(X['mean radius'] > X['mean radius'].mean(), 'High', 'Low')\n",
        "\n",
        "numeric_features = X.select_dtypes(include=[np.number]).columns.tolist()\n",
        "numeric_transformer = Pipeline(steps=[\n",
        "    ('imputer', SimpleImputer(strategy='mean')),\n",
        "    ('scaler', StandardScaler())\n",
        "])\n",
        "\n",
        "categorical_features = ['category']\n",
        "categorical_transformer = Pipeline(steps=[\n",
        "    ('imputer', SimpleImputer(strategy='most_frequent')),\n",
        "    ('encoder', OneHotEncoder(handle_unknown='ignore'))\n",
        "])\n",
        "\n",
        "preprocessor = ColumnTransformer(\n",
        "    transformers=[\n",
        "        ('num', numeric_transformer, numeric_features),\n",
        "        ('cat', categorical_transformer, categorical_features)\n",
        "    ])\n",
        "\n",
        "X_train, X_test, y_train, y_test = train_test_split(\n",
        "    X, y, test_size=0.2, random_state=42\n",
        ")\n",
        "\n",
        "print(\"✅ Dataset loaded and preprocessing pipeline is ready\")\n",
        "print(\"Training shape:\", X_train.shape)\n",
        "print(\"Testing shape:\", X_test.shape)\n"
      ],
      "metadata": {
        "colab": {
          "base_uri": "https://localhost:8080/"
        },
        "id": "0Vl8NnS0My40",
        "outputId": "826a7a04-9d5c-49b8-baeb-d284e84d7310"
      },
      "execution_count": 2,
      "outputs": [
        {
          "output_type": "stream",
          "name": "stdout",
          "text": [
            "✅ Dataset loaded and preprocessing pipeline is ready\n",
            "Training shape: (455, 31)\n",
            "Testing shape: (114, 31)\n"
          ]
        }
      ]
    },
    {
      "cell_type": "markdown",
      "source": [
        "**TASK NO 3 Create a classification Report**"
      ],
      "metadata": {
        "id": "5674obfXNHju"
      }
    },
    {
      "cell_type": "code",
      "source": [
        "from sklearn.metrics import classification_report\n",
        "from sklearn.ensemble import RandomForestClassifier\n",
        "from sklearn.pipeline import Pipeline\n",
        "from rich.console import Console\n",
        "from rich.table import Table\n",
        "from rich import box\n",
        "\n",
        "clf = Pipeline(steps=[('preprocessor', preprocessor),\n",
        "                      ('classifier', RandomForestClassifier(random_state=42))])\n",
        "clf.fit(X_train, y_train)\n",
        "\n",
        "y_pred = clf.predict(X_test)\n",
        "\n",
        "report = classification_report(y_test, y_pred, output_dict=True)\n",
        "\n",
        "console = Console()\n",
        "\n",
        "table = Table(\n",
        "    title=\"🌈 Classification Report\",\n",
        "    title_style=\"bold white on blue\",\n",
        "    header_style=\"bold white on black\",\n",
        "    style=\"bold\",\n",
        "    box=box.DOUBLE_EDGE\n",
        ")\n",
        "\n",
        "table.add_column(\"Class\", justify=\"center\", style=\"bold cyan\")\n",
        "table.add_column(\"Precision\", justify=\"center\", style=\"bold green\")\n",
        "table.add_column(\"Recall\", justify=\"center\", style=\"bold yellow\")\n",
        "table.add_column(\"F1-Score\", justify=\"center\", style=\"bold magenta\")\n",
        "table.add_column(\"Support\", justify=\"center\", style=\"bold red\")\n",
        "\n",
        "row_colors = [\"on grey15\", \"on grey7\"]\n",
        "i = 0\n",
        "\n",
        "for label, metrics in report.items():\n",
        "    if isinstance(metrics, dict):\n",
        "        table.add_row(\n",
        "            f\"[cyan]{label}[/cyan]\",\n",
        "            f\"[green]{metrics['precision']:.2f}[/green]\",\n",
        "            f\"[yellow]{metrics['recall']:.2f}[/yellow]\",\n",
        "            f\"[magenta]{metrics['f1-score']:.2f}[/magenta]\",\n",
        "            f\"[red]{metrics['support']}[/red]\",\n",
        "            style=row_colors[i % 2]\n",
        "        )\n",
        "        i += 1\n",
        "\n",
        "console.print(table)\n"
      ],
      "metadata": {
        "colab": {
          "base_uri": "https://localhost:8080/",
          "height": 172
        },
        "id": "w9-rx4acNGqi",
        "outputId": "510b9416-2f80-4a64-c88d-696dd3895ab8"
      },
      "execution_count": 3,
      "outputs": [
        {
          "output_type": "display_data",
          "data": {
            "text/plain": [
              "\u001b[1;37;44m                 🌈 Classification Report                 \u001b[0m\n",
              "\u001b[1m╔══════════════╤═══════════╤════════╤══════════╤═════════╗\u001b[0m\n",
              "\u001b[1m║\u001b[0m\u001b[1;37;40m \u001b[0m\u001b[1;37;40m   Class    \u001b[0m\u001b[1;37;40m \u001b[0m\u001b[1m│\u001b[0m\u001b[1;37;40m \u001b[0m\u001b[1;37;40mPrecision\u001b[0m\u001b[1;37;40m \u001b[0m\u001b[1m│\u001b[0m\u001b[1;37;40m \u001b[0m\u001b[1;37;40mRecall\u001b[0m\u001b[1;37;40m \u001b[0m\u001b[1m│\u001b[0m\u001b[1;37;40m \u001b[0m\u001b[1;37;40mF1-Score\u001b[0m\u001b[1;37;40m \u001b[0m\u001b[1m│\u001b[0m\u001b[1;37;40m \u001b[0m\u001b[1;37;40mSupport\u001b[0m\u001b[1;37;40m \u001b[0m\u001b[1m║\u001b[0m\n",
              "\u001b[1m╟──────────────┼───────────┼────────┼──────────┼─────────╢\u001b[0m\n",
              "\u001b[1m║\u001b[0m\u001b[1;36;48;5;235m \u001b[0m\u001b[1;36;48;5;235m     \u001b[0m\u001b[1;36;48;5;235m0\u001b[0m\u001b[1;36;48;5;235m      \u001b[0m\u001b[1;36;48;5;235m \u001b[0m\u001b[1m│\u001b[0m\u001b[1;32;48;5;235m \u001b[0m\u001b[1;32;48;5;235m  \u001b[0m\u001b[1;32;48;5;235m0.98\u001b[0m\u001b[1;32;48;5;235m   \u001b[0m\u001b[1;32;48;5;235m \u001b[0m\u001b[1m│\u001b[0m\u001b[1;33;48;5;235m \u001b[0m\u001b[1;33;48;5;235m \u001b[0m\u001b[1;33;48;5;235m0.93\u001b[0m\u001b[1;33;48;5;235m \u001b[0m\u001b[1;33;48;5;235m \u001b[0m\u001b[1m│\u001b[0m\u001b[1;35;48;5;235m \u001b[0m\u001b[1;35;48;5;235m  \u001b[0m\u001b[1;35;48;5;235m0.95\u001b[0m\u001b[1;35;48;5;235m  \u001b[0m\u001b[1;35;48;5;235m \u001b[0m\u001b[1m│\u001b[0m\u001b[1;31;48;5;235m \u001b[0m\u001b[1;31;48;5;235m \u001b[0m\u001b[1;31;48;5;235m43.0\u001b[0m\u001b[1;31;48;5;235m  \u001b[0m\u001b[1;31;48;5;235m \u001b[0m\u001b[1m║\u001b[0m\n",
              "\u001b[1m║\u001b[0m\u001b[1;36;48;5;233m \u001b[0m\u001b[1;36;48;5;233m     \u001b[0m\u001b[1;36;48;5;233m1\u001b[0m\u001b[1;36;48;5;233m      \u001b[0m\u001b[1;36;48;5;233m \u001b[0m\u001b[1m│\u001b[0m\u001b[1;32;48;5;233m \u001b[0m\u001b[1;32;48;5;233m  \u001b[0m\u001b[1;32;48;5;233m0.96\u001b[0m\u001b[1;32;48;5;233m   \u001b[0m\u001b[1;32;48;5;233m \u001b[0m\u001b[1m│\u001b[0m\u001b[1;33;48;5;233m \u001b[0m\u001b[1;33;48;5;233m \u001b[0m\u001b[1;33;48;5;233m0.99\u001b[0m\u001b[1;33;48;5;233m \u001b[0m\u001b[1;33;48;5;233m \u001b[0m\u001b[1m│\u001b[0m\u001b[1;35;48;5;233m \u001b[0m\u001b[1;35;48;5;233m  \u001b[0m\u001b[1;35;48;5;233m0.97\u001b[0m\u001b[1;35;48;5;233m  \u001b[0m\u001b[1;35;48;5;233m \u001b[0m\u001b[1m│\u001b[0m\u001b[1;31;48;5;233m \u001b[0m\u001b[1;31;48;5;233m \u001b[0m\u001b[1;31;48;5;233m71.0\u001b[0m\u001b[1;31;48;5;233m  \u001b[0m\u001b[1;31;48;5;233m \u001b[0m\u001b[1m║\u001b[0m\n",
              "\u001b[1m║\u001b[0m\u001b[1;36;48;5;235m \u001b[0m\u001b[1;36;48;5;235m \u001b[0m\u001b[1;36;48;5;235mmacro avg\u001b[0m\u001b[1;36;48;5;235m  \u001b[0m\u001b[1;36;48;5;235m \u001b[0m\u001b[1m│\u001b[0m\u001b[1;32;48;5;235m \u001b[0m\u001b[1;32;48;5;235m  \u001b[0m\u001b[1;32;48;5;235m0.97\u001b[0m\u001b[1;32;48;5;235m   \u001b[0m\u001b[1;32;48;5;235m \u001b[0m\u001b[1m│\u001b[0m\u001b[1;33;48;5;235m \u001b[0m\u001b[1;33;48;5;235m \u001b[0m\u001b[1;33;48;5;235m0.96\u001b[0m\u001b[1;33;48;5;235m \u001b[0m\u001b[1;33;48;5;235m \u001b[0m\u001b[1m│\u001b[0m\u001b[1;35;48;5;235m \u001b[0m\u001b[1;35;48;5;235m  \u001b[0m\u001b[1;35;48;5;235m0.96\u001b[0m\u001b[1;35;48;5;235m  \u001b[0m\u001b[1;35;48;5;235m \u001b[0m\u001b[1m│\u001b[0m\u001b[1;31;48;5;235m \u001b[0m\u001b[1;31;48;5;235m \u001b[0m\u001b[1;31;48;5;235m114.0\u001b[0m\u001b[1;31;48;5;235m \u001b[0m\u001b[1;31;48;5;235m \u001b[0m\u001b[1m║\u001b[0m\n",
              "\u001b[1m║\u001b[0m\u001b[1;36;48;5;233m \u001b[0m\u001b[1;36;48;5;233mweighted avg\u001b[0m\u001b[1;36;48;5;233m \u001b[0m\u001b[1m│\u001b[0m\u001b[1;32;48;5;233m \u001b[0m\u001b[1;32;48;5;233m  \u001b[0m\u001b[1;32;48;5;233m0.97\u001b[0m\u001b[1;32;48;5;233m   \u001b[0m\u001b[1;32;48;5;233m \u001b[0m\u001b[1m│\u001b[0m\u001b[1;33;48;5;233m \u001b[0m\u001b[1;33;48;5;233m \u001b[0m\u001b[1;33;48;5;233m0.96\u001b[0m\u001b[1;33;48;5;233m \u001b[0m\u001b[1;33;48;5;233m \u001b[0m\u001b[1m│\u001b[0m\u001b[1;35;48;5;233m \u001b[0m\u001b[1;35;48;5;233m  \u001b[0m\u001b[1;35;48;5;233m0.96\u001b[0m\u001b[1;35;48;5;233m  \u001b[0m\u001b[1;35;48;5;233m \u001b[0m\u001b[1m│\u001b[0m\u001b[1;31;48;5;233m \u001b[0m\u001b[1;31;48;5;233m \u001b[0m\u001b[1;31;48;5;233m114.0\u001b[0m\u001b[1;31;48;5;233m \u001b[0m\u001b[1;31;48;5;233m \u001b[0m\u001b[1m║\u001b[0m\n",
              "\u001b[1m╚══════════════╧═══════════╧════════╧══════════╧═════════╝\u001b[0m\n"
            ],
            "text/html": [
              "<pre style=\"white-space:pre;overflow-x:auto;line-height:normal;font-family:Menlo,'DejaVu Sans Mono',consolas,'Courier New',monospace\"><span style=\"color: #c0c0c0; text-decoration-color: #c0c0c0; background-color: #000080; font-weight: bold\">                 🌈 Classification Report                 </span>\n",
              "<span style=\"font-weight: bold\">╔══════════════╤═══════════╤════════╤══════════╤═════════╗</span>\n",
              "<span style=\"font-weight: bold\">║</span><span style=\"color: #c0c0c0; text-decoration-color: #c0c0c0; background-color: #000000; font-weight: bold\">    Class     </span><span style=\"font-weight: bold\">│</span><span style=\"color: #c0c0c0; text-decoration-color: #c0c0c0; background-color: #000000; font-weight: bold\"> Precision </span><span style=\"font-weight: bold\">│</span><span style=\"color: #c0c0c0; text-decoration-color: #c0c0c0; background-color: #000000; font-weight: bold\"> Recall </span><span style=\"font-weight: bold\">│</span><span style=\"color: #c0c0c0; text-decoration-color: #c0c0c0; background-color: #000000; font-weight: bold\"> F1-Score </span><span style=\"font-weight: bold\">│</span><span style=\"color: #c0c0c0; text-decoration-color: #c0c0c0; background-color: #000000; font-weight: bold\"> Support </span><span style=\"font-weight: bold\">║</span>\n",
              "<span style=\"font-weight: bold\">╟──────────────┼───────────┼────────┼──────────┼─────────╢</span>\n",
              "<span style=\"font-weight: bold\">║</span><span style=\"color: #008080; text-decoration-color: #008080; background-color: #262626; font-weight: bold\">      0       </span><span style=\"font-weight: bold\">│</span><span style=\"color: #008000; text-decoration-color: #008000; background-color: #262626; font-weight: bold\">   0.98    </span><span style=\"font-weight: bold\">│</span><span style=\"color: #808000; text-decoration-color: #808000; background-color: #262626; font-weight: bold\">  0.93  </span><span style=\"font-weight: bold\">│</span><span style=\"color: #800080; text-decoration-color: #800080; background-color: #262626; font-weight: bold\">   0.95   </span><span style=\"font-weight: bold\">│</span><span style=\"color: #800000; text-decoration-color: #800000; background-color: #262626; font-weight: bold\">  43.0   </span><span style=\"font-weight: bold\">║</span>\n",
              "<span style=\"font-weight: bold\">║</span><span style=\"color: #008080; text-decoration-color: #008080; background-color: #121212; font-weight: bold\">      1       </span><span style=\"font-weight: bold\">│</span><span style=\"color: #008000; text-decoration-color: #008000; background-color: #121212; font-weight: bold\">   0.96    </span><span style=\"font-weight: bold\">│</span><span style=\"color: #808000; text-decoration-color: #808000; background-color: #121212; font-weight: bold\">  0.99  </span><span style=\"font-weight: bold\">│</span><span style=\"color: #800080; text-decoration-color: #800080; background-color: #121212; font-weight: bold\">   0.97   </span><span style=\"font-weight: bold\">│</span><span style=\"color: #800000; text-decoration-color: #800000; background-color: #121212; font-weight: bold\">  71.0   </span><span style=\"font-weight: bold\">║</span>\n",
              "<span style=\"font-weight: bold\">║</span><span style=\"color: #008080; text-decoration-color: #008080; background-color: #262626; font-weight: bold\">  macro avg   </span><span style=\"font-weight: bold\">│</span><span style=\"color: #008000; text-decoration-color: #008000; background-color: #262626; font-weight: bold\">   0.97    </span><span style=\"font-weight: bold\">│</span><span style=\"color: #808000; text-decoration-color: #808000; background-color: #262626; font-weight: bold\">  0.96  </span><span style=\"font-weight: bold\">│</span><span style=\"color: #800080; text-decoration-color: #800080; background-color: #262626; font-weight: bold\">   0.96   </span><span style=\"font-weight: bold\">│</span><span style=\"color: #800000; text-decoration-color: #800000; background-color: #262626; font-weight: bold\">  114.0  </span><span style=\"font-weight: bold\">║</span>\n",
              "<span style=\"font-weight: bold\">║</span><span style=\"color: #008080; text-decoration-color: #008080; background-color: #121212; font-weight: bold\"> weighted avg </span><span style=\"font-weight: bold\">│</span><span style=\"color: #008000; text-decoration-color: #008000; background-color: #121212; font-weight: bold\">   0.97    </span><span style=\"font-weight: bold\">│</span><span style=\"color: #808000; text-decoration-color: #808000; background-color: #121212; font-weight: bold\">  0.96  </span><span style=\"font-weight: bold\">│</span><span style=\"color: #800080; text-decoration-color: #800080; background-color: #121212; font-weight: bold\">   0.96   </span><span style=\"font-weight: bold\">│</span><span style=\"color: #800000; text-decoration-color: #800000; background-color: #121212; font-weight: bold\">  114.0  </span><span style=\"font-weight: bold\">║</span>\n",
              "<span style=\"font-weight: bold\">╚══════════════╧═══════════╧════════╧══════════╧═════════╝</span>\n",
              "</pre>\n"
            ]
          },
          "metadata": {}
        }
      ]
    },
    {
      "cell_type": "code",
      "source": [],
      "metadata": {
        "id": "sb4RskiINL-v"
      },
      "execution_count": null,
      "outputs": []
    }
  ]
}